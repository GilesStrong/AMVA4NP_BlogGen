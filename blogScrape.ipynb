{
 "cells": [
  {
   "cell_type": "code",
   "execution_count": 28,
   "metadata": {},
   "outputs": [],
   "source": [
    "from bs4 import BeautifulSoup\n",
    "import glob\n",
    "from six.moves import cPickle as pickle"
   ]
  },
  {
   "cell_type": "code",
   "execution_count": 2,
   "metadata": {},
   "outputs": [],
   "source": [
    "def scrapePost(name, onlyAuthor=False):\n",
    "    with open(name) as infile:\n",
    "        scrape = infile.read()\n",
    "    author = scrape[scrape.rfind('<h4>')+4:scrape.rfind('</h4>')]\n",
    "    if onlyAuthor:\n",
    "        return author\n",
    "    content = scrape[scrape.find('<div class=\"post-content clear\">'):scrape.find('</div><!--/.post-content-->')]\n",
    "    blog = BeautifulSoup(content, 'html.parser')\n",
    "    content = blog.get_text().split('\\n')\n",
    "    if 'by ' in content[1]:\n",
    "        post = content[2:-3]\n",
    "    else:\n",
    "        post = content[1:-3]\n",
    "    mergedPost = ''\n",
    "    for i in post:\n",
    "        if i != '':\n",
    "            mergedPost += ' ' + i\n",
    "    return author, mergedPost"
   ]
  },
  {
   "cell_type": "code",
   "execution_count": 3,
   "metadata": {},
   "outputs": [
    {
     "name": "stdout",
     "output_type": "stream",
     "text": [
      "8 post found in year 2015\n",
      "149 post found in year 2016\n",
      "127 post found in year 2017\n"
     ]
    }
   ],
   "source": [
    "base = 'data/amva4newphysics.wordpress.com/'\n",
    "authors = []\n",
    "for year in ['2015', '2016', '2017']:\n",
    "    posts = glob.glob(base + year + '/*/*/*/index.html')\n",
    "    print '{} post found in year {}'.format(len(posts), year)\n",
    "    for post in posts:\n",
    "        if '/page/' in post:\n",
    "            continue\n",
    "        author = scrapePost(post, True)\n",
    "        if len(author) >= 20:\n",
    "            print author\n",
    "            print \"Error in: \", post\n",
    "        else:\n",
    "            authors.append(author)"
   ]
  },
  {
   "cell_type": "code",
   "execution_count": 4,
   "metadata": {},
   "outputs": [
    {
     "name": "stdout",
     "output_type": "stream",
     "text": [
      "set(['sabinehe', 'sengpei', 'Dr. Markus Stoye', 'dorigo', 'Anna Stakia', 'GilesStrong', 'fabriciojm', 'josaitis', 'Pablo de Castro', 'ioannapapavergou', 'Pietro Vischia', 'ceciliatosciri', 'amva4np', 'alesaggio', 'Andrea Giammanco', 'alexanderheld', 'Greg Kotkowski'])\n"
     ]
    }
   ],
   "source": [
    "print set(authors)"
   ]
  },
  {
   "cell_type": "code",
   "execution_count": 23,
   "metadata": {},
   "outputs": [],
   "source": [
    "blog = {}\n",
    "for author in authors:\n",
    "    blog[author] = ''"
   ]
  },
  {
   "cell_type": "code",
   "execution_count": 24,
   "metadata": {},
   "outputs": [
    {
     "name": "stdout",
     "output_type": "stream",
     "text": [
      "8 post found in year 2015\n",
      "149 post found in year 2016\n",
      "127 post found in year 2017\n"
     ]
    }
   ],
   "source": [
    "for year in ['2015', '2016', '2017']:\n",
    "    posts = glob.glob(base + year + '/*/*/*/index.html')\n",
    "    print '{} post found in year {}'.format(len(posts), year)\n",
    "    for post in posts:\n",
    "        if '/page/' in post:\n",
    "            continue\n",
    "        author, content = scrapePost(post)\n",
    "        if len(content) < 20:\n",
    "            print content\n",
    "            print \"Error in: \", post\n",
    "        blog[author] += content"
   ]
  },
  {
   "cell_type": "code",
   "execution_count": 14,
   "metadata": {},
   "outputs": [
    {
     "name": "stdout",
     "output_type": "stream",
     "text": [
      "Author\tnumber of characters,\twords\n",
      "sabinehe\t\t8706\t1384\n",
      "sengpei\t\t10637\t1690\n",
      "Dr. Markus Stoye\t\t2518\t421\n",
      "dorigo\t\t201718\t35035\n",
      "Anna Stakia\t\t38442\t6037\n",
      "GilesStrong\t\t145807\t24451\n",
      "fabriciojm\t\t32398\t5437\n",
      "josaitis\t\t5473\t913\n",
      "Pablo de Castro\t\t104523\t17027\n",
      "ioannapapavergou\t\t15307\t2613\n",
      "Pietro Vischia\t\t52038\t9016\n",
      "ceciliatosciri\t\t37301\t6231\n",
      "amva4np\t\t245515\t41297\n",
      "alesaggio\t\t68032\t11595\n",
      "Andrea Giammanco\t\t47939\t8037\n",
      "alexanderheld\t\t15016\t2529\n",
      "Greg Kotkowski\t\t85555\t14515\n"
     ]
    }
   ],
   "source": [
    "print \"Author\\tnumber of characters,\\twords\"\n",
    "for author in blog:\n",
    "    print \"{}\\t\\t{}\\t{}\".format(author, len(blog[author]), len(blog[author].split(' ')))"
   ]
  },
  {
   "cell_type": "code",
   "execution_count": 29,
   "metadata": {},
   "outputs": [],
   "source": [
    "for author in blog:\n",
    "    with open(author + '.pkl', 'w') as fout:\n",
    "        pickle.dump(blog[author], fout) "
   ]
  },
  {
   "cell_type": "code",
   "execution_count": null,
   "metadata": {},
   "outputs": [],
   "source": []
  }
 ],
 "metadata": {
  "kernelspec": {
   "display_name": "Python 2",
   "language": "python",
   "name": "python2"
  },
  "language_info": {
   "codemirror_mode": {
    "name": "ipython",
    "version": 2
   },
   "file_extension": ".py",
   "mimetype": "text/x-python",
   "name": "python",
   "nbconvert_exporter": "python",
   "pygments_lexer": "ipython2",
   "version": "2.7.11"
  }
 },
 "nbformat": 4,
 "nbformat_minor": 2
}
